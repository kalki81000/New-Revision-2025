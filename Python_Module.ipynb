{
  "nbformat": 4,
  "nbformat_minor": 0,
  "metadata": {
    "colab": {
      "provenance": [],
      "include_colab_link": true
    },
    "kernelspec": {
      "name": "python3",
      "display_name": "Python 3"
    },
    "language_info": {
      "name": "python"
    }
  },
  "cells": [
    {
      "cell_type": "markdown",
      "metadata": {
        "id": "view-in-github",
        "colab_type": "text"
      },
      "source": [
        "<a href=\"https://colab.research.google.com/github/kalki81000/New-Revision-2025/blob/main/Python_Module.ipynb\" target=\"_parent\"><img src=\"https://colab.research.google.com/assets/colab-badge.svg\" alt=\"Open In Colab\"/></a>"
      ]
    },
    {
      "cell_type": "code",
      "execution_count": null,
      "metadata": {
        "colab": {
          "base_uri": "https://localhost:8080/",
          "height": 53
        },
        "id": "5r1YZcw8aB84",
        "outputId": "abfcae10-d9bb-4290-8f66-2d4cd1cc31c3"
      },
      "outputs": [
        {
          "name": "stdout",
          "output_type": "stream",
          "text": [
            "Enter your name: Sahil Garg\n"
          ]
        },
        {
          "output_type": "execute_result",
          "data": {
            "text/plain": [
              "'Sahil Garg'"
            ],
            "application/vnd.google.colaboratory.intrinsic+json": {
              "type": "string"
            }
          },
          "metadata": {},
          "execution_count": 1
        }
      ],
      "source": [
        "# inbuilt functions\n",
        "name = input(\"Enter your name: \")"
      ]
    },
    {
      "cell_type": "code",
      "source": [
        "print(name)"
      ],
      "metadata": {
        "colab": {
          "base_uri": "https://localhost:8080/"
        },
        "id": "k6UMVk_aemVp",
        "outputId": "6bbbd17d-4d22-40c9-b964-4233eafa6278"
      },
      "execution_count": null,
      "outputs": [
        {
          "output_type": "stream",
          "name": "stdout",
          "text": [
            "Sahil Garg\n"
          ]
        }
      ]
    },
    {
      "cell_type": "code",
      "source": [
        "type(name)"
      ],
      "metadata": {
        "colab": {
          "base_uri": "https://localhost:8080/"
        },
        "id": "QXGOFq3rgqmV",
        "outputId": "816d69dc-6323-4e96-a915-a25e8b83501b"
      },
      "execution_count": null,
      "outputs": [
        {
          "output_type": "execute_result",
          "data": {
            "text/plain": [
              "str"
            ]
          },
          "metadata": {},
          "execution_count": 3
        }
      ]
    },
    {
      "cell_type": "code",
      "source": [
        "len(name)"
      ],
      "metadata": {
        "colab": {
          "base_uri": "https://localhost:8080/"
        },
        "id": "Jml5ciDfiCjD",
        "outputId": "fbaa77fc-2210-4f28-b434-3d27ac3b8daa"
      },
      "execution_count": null,
      "outputs": [
        {
          "output_type": "execute_result",
          "data": {
            "text/plain": [
              "10"
            ]
          },
          "metadata": {},
          "execution_count": 4
        }
      ]
    },
    {
      "cell_type": "code",
      "source": [
        "# variables\n",
        "\n",
        "# data types\n",
        "\n",
        "# numeric data types\n",
        "a = 1 # integers\n",
        "b = 3.4 #float\n",
        "c = 2+3j # complex  number are real + imaginary numbers\n",
        "\n",
        "\n",
        "# Boolean\n",
        "isworking = True # False\n",
        "\n",
        "# array datatypes\n",
        "\n",
        "name = \"Sahil Garg\"  # string data types\n",
        "name_of_fruits = [\"Apple\" , \"banana\", \"grapes\" , 1] # list\n",
        "name_of_country = (\"India\", \"US\" , \"UK\", 1) # tuple\n"
      ],
      "metadata": {
        "id": "d3nQn0YGiPdm"
      },
      "execution_count": 2,
      "outputs": []
    },
    {
      "cell_type": "code",
      "source": [
        "name_of_fruits.append(name_of_country)"
      ],
      "metadata": {
        "id": "DRovztPYkYxE"
      },
      "execution_count": 4,
      "outputs": []
    },
    {
      "cell_type": "code",
      "source": [
        "name_of_fruits.extend(name_of_country)"
      ],
      "metadata": {
        "id": "Y22X_Y_fkfpb"
      },
      "execution_count": 5,
      "outputs": []
    },
    {
      "cell_type": "code",
      "source": [
        "name_of_fruits.insert(1, 'paches')"
      ],
      "metadata": {
        "id": "y_Rxe75MkpJ-"
      },
      "execution_count": 6,
      "outputs": []
    },
    {
      "cell_type": "code",
      "source": [
        "name_of_fruits.index(\"India\")"
      ],
      "metadata": {
        "colab": {
          "base_uri": "https://localhost:8080/"
        },
        "id": "bD7BhOkvl8nW",
        "outputId": "5aa924ec-484f-4cc3-e839-eaa7160ca663"
      },
      "execution_count": 7,
      "outputs": [
        {
          "output_type": "execute_result",
          "data": {
            "text/plain": [
              "7"
            ]
          },
          "metadata": {},
          "execution_count": 7
        }
      ]
    },
    {
      "cell_type": "code",
      "source": [
        "name_of_fruits.remove(\"India\")"
      ],
      "metadata": {
        "id": "D_Crm2qZnb-z"
      },
      "execution_count": null,
      "outputs": []
    },
    {
      "cell_type": "code",
      "source": [
        "# dictionary\n",
        "inventory = {\"apple\": {\"green apple\":10, \"golden\": 40}, \"grapes\":[200, 300], \"peaches\":50}"
      ],
      "metadata": {
        "id": "rd6axdXSoPZL"
      },
      "execution_count": null,
      "outputs": []
    },
    {
      "cell_type": "code",
      "source": [
        "inventory"
      ],
      "metadata": {
        "colab": {
          "base_uri": "https://localhost:8080/"
        },
        "id": "svRxC0uXqhzN",
        "outputId": "3866f4dc-f318-4269-a3ed-9326bd5ea75e"
      },
      "execution_count": null,
      "outputs": [
        {
          "output_type": "execute_result",
          "data": {
            "text/plain": [
              "{'apple': {'green apple': 10, 'golden': 40},\n",
              " 'grapes': [200, 300],\n",
              " 'peaches': 50}"
            ]
          },
          "metadata": {},
          "execution_count": 32
        }
      ]
    },
    {
      "cell_type": "code",
      "source": [
        "len(inventory.keys())"
      ],
      "metadata": {
        "colab": {
          "base_uri": "https://localhost:8080/"
        },
        "id": "-PU9F87Qqnpn",
        "outputId": "6a1ff646-3521-4c62-f680-ee7932b67021"
      },
      "execution_count": null,
      "outputs": [
        {
          "output_type": "execute_result",
          "data": {
            "text/plain": [
              "3"
            ]
          },
          "metadata": {},
          "execution_count": 37
        }
      ]
    },
    {
      "cell_type": "code",
      "source": [
        "com = inventory.copy()"
      ],
      "metadata": {
        "id": "5GfscKT6rcEm"
      },
      "execution_count": null,
      "outputs": []
    },
    {
      "cell_type": "code",
      "source": [
        "com"
      ],
      "metadata": {
        "colab": {
          "base_uri": "https://localhost:8080/"
        },
        "id": "lf6vRyxgr8qz",
        "outputId": "f8499725-c204-46d9-8243-a4cc80dd765e"
      },
      "execution_count": null,
      "outputs": [
        {
          "output_type": "execute_result",
          "data": {
            "text/plain": [
              "{'apple': {'green apple': 10, 'golden': 40},\n",
              " 'grapes': [200, 300],\n",
              " 'peaches': 50}"
            ]
          },
          "metadata": {},
          "execution_count": 40
        }
      ]
    },
    {
      "cell_type": "code",
      "source": [
        "# operator\n",
        "# arithmatic operator\n",
        "2/3\n",
        "\n",
        "# comparison\n",
        "2 == 3\n",
        "\n",
        "\n",
        "# logical operator and or not\n",
        "\n",
        "2>3"
      ],
      "metadata": {
        "colab": {
          "base_uri": "https://localhost:8080/"
        },
        "id": "_xIxYOCdsKml",
        "outputId": "17704c8c-ed26-47cb-ffba-dbb1d007a65f"
      },
      "execution_count": null,
      "outputs": [
        {
          "output_type": "execute_result",
          "data": {
            "text/plain": [
              "False"
            ]
          },
          "metadata": {},
          "execution_count": 57
        }
      ]
    },
    {
      "cell_type": "code",
      "source": [
        "# create a conversion of celsius to farheinhiet\n",
        "tem = input(\"Enter the temp: \")\n",
        "\n",
        "tem = float(tem)\n",
        "\n",
        "far = (9 / 5  * tem ) +32"
      ],
      "metadata": {
        "colab": {
          "base_uri": "https://localhost:8080/"
        },
        "id": "2qtfhagXtUwO",
        "outputId": "db593350-8e58-4e90-cfea-e00233e22fdb"
      },
      "execution_count": null,
      "outputs": [
        {
          "name": "stdout",
          "output_type": "stream",
          "text": [
            "Enter the temp: 23\n"
          ]
        }
      ]
    },
    {
      "cell_type": "code",
      "source": [
        "far"
      ],
      "metadata": {
        "colab": {
          "base_uri": "https://localhost:8080/"
        },
        "id": "KKzp8oo-uJ7Z",
        "outputId": "1d3ab5eb-d452-4a19-f719-d548ad19c579"
      },
      "execution_count": null,
      "outputs": [
        {
          "output_type": "execute_result",
          "data": {
            "text/plain": [
              "73.4"
            ]
          },
          "metadata": {},
          "execution_count": 60
        }
      ]
    },
    {
      "cell_type": "code",
      "source": [
        "# control flow statment\n",
        "# conditional statement\n",
        "# looping\n",
        "# try except\n",
        "\n",
        "\n",
        "\n",
        "# conditional statmebt\n",
        "\n",
        "tem = input(\"Enter the temp: \")\n",
        "\n",
        "tem = float(tem)\n",
        "\n",
        "far = (9 / 5  * tem ) +32\n",
        "\n",
        "if far > 100:\n",
        "  print(\"user have a fever\")\n",
        "elif far < 95:\n",
        "  print(\"user have a low temp\")\n",
        "elif\n",
        "else:\n",
        "  print(\"user dont have fever\")"
      ],
      "metadata": {
        "colab": {
          "base_uri": "https://localhost:8080/"
        },
        "id": "fWpDUw8quvYf",
        "outputId": "a12371ee-54ae-4241-aac1-ee89d8108738"
      },
      "execution_count": null,
      "outputs": [
        {
          "output_type": "stream",
          "name": "stdout",
          "text": [
            "Enter the temp: 23\n",
            "user have a low temp\n"
          ]
        }
      ]
    },
    {
      "cell_type": "code",
      "source": [
        "# create a calculator\n",
        "\n",
        "num1 = int(input(\"Enter the first number: \"))\n",
        "num2 = int(input(\"Enter the second number: \"))\n",
        "ope = input(\"Enter the operation: \")\n",
        "\n",
        "if ope == \"+\":\n",
        "  print(num1+ num2)\n",
        "elif"
      ],
      "metadata": {
        "colab": {
          "base_uri": "https://localhost:8080/",
          "height": 106
        },
        "id": "Ll9Lhs8wv-N_",
        "outputId": "2499c808-2ba5-478e-e097-6da36b3e02a6"
      },
      "execution_count": 8,
      "outputs": [
        {
          "output_type": "error",
          "ename": "SyntaxError",
          "evalue": "invalid syntax (ipython-input-1401328638.py, line 9)",
          "traceback": [
            "\u001b[0;36m  File \u001b[0;32m\"/tmp/ipython-input-1401328638.py\"\u001b[0;36m, line \u001b[0;32m9\u001b[0m\n\u001b[0;31m    elif\u001b[0m\n\u001b[0m        ^\u001b[0m\n\u001b[0;31mSyntaxError\u001b[0m\u001b[0;31m:\u001b[0m invalid syntax\n"
          ]
        }
      ]
    },
    {
      "cell_type": "code",
      "source": [
        "name_of_fruits"
      ],
      "metadata": {
        "colab": {
          "base_uri": "https://localhost:8080/"
        },
        "id": "f280U1H_yddv",
        "outputId": "214926ff-7fe4-4a53-ea61-e823733e6b3c"
      },
      "execution_count": null,
      "outputs": [
        {
          "output_type": "execute_result",
          "data": {
            "text/plain": [
              "['Apple', 'banana', 'grapes', 1, ('India', 'US', 'UK', 1), 'US', 'UK', 1]"
            ]
          },
          "metadata": {},
          "execution_count": 67
        }
      ]
    },
    {
      "cell_type": "code",
      "source": [],
      "metadata": {
        "id": "-ueJ7SkQzFFZ"
      },
      "execution_count": null,
      "outputs": []
    },
    {
      "cell_type": "code",
      "source": [
        "# looping statment - for , while\n",
        "\n",
        "for i in range(10):\n",
        "  if i % 2 ==0:\n",
        "    print(f\"{i} an even number\")\n",
        "  else:\n",
        "    print(f\"{i} an odd number\")\n"
      ],
      "metadata": {
        "colab": {
          "base_uri": "https://localhost:8080/"
        },
        "id": "i_FGdildyCv1",
        "outputId": "b8ece95e-8913-4093-dc02-ff3ea340254c"
      },
      "execution_count": null,
      "outputs": [
        {
          "output_type": "stream",
          "name": "stdout",
          "text": [
            "0 an even number\n",
            "1 an odd number\n",
            "2 an even number\n",
            "3 an odd number\n",
            "4 an even number\n",
            "5 an odd number\n",
            "6 an even number\n",
            "7 an odd number\n",
            "8 an even number\n",
            "9 an odd number\n"
          ]
        }
      ]
    },
    {
      "cell_type": "code",
      "source": [
        "for i in range(5):\n",
        "  for j in range(i):\n",
        "\n"
      ],
      "metadata": {
        "colab": {
          "base_uri": "https://localhost:8080/"
        },
        "id": "AYaaULpv8x4y",
        "outputId": "dae4dbb4-5dd0-4984-ee93-a925c3fcb059"
      },
      "execution_count": null,
      "outputs": [
        {
          "output_type": "stream",
          "name": "stdout",
          "text": [
            ".e\n"
          ]
        }
      ]
    },
    {
      "cell_type": "code",
      "source": [
        "# create a method to find the sq of all number and save it in a new li\n",
        "sq_num = []\n",
        "\n",
        "for num in range(11, 100, 5 ):\n",
        "  num_sq = num* num\n",
        "  sq_num.append(num_sq)\n",
        "\n",
        "sq_num"
      ],
      "metadata": {
        "colab": {
          "base_uri": "https://localhost:8080/"
        },
        "id": "Az8B69vbz5eW",
        "outputId": "b7c2517e-f6ae-41d7-a976-f107193744dc"
      },
      "execution_count": null,
      "outputs": [
        {
          "output_type": "execute_result",
          "data": {
            "text/plain": [
              "[121,\n",
              " 256,\n",
              " 441,\n",
              " 676,\n",
              " 961,\n",
              " 1296,\n",
              " 1681,\n",
              " 2116,\n",
              " 2601,\n",
              " 3136,\n",
              " 3721,\n",
              " 4356,\n",
              " 5041,\n",
              " 5776,\n",
              " 6561,\n",
              " 7396,\n",
              " 8281,\n",
              " 9216]"
            ]
          },
          "metadata": {},
          "execution_count": 75
        }
      ]
    },
    {
      "cell_type": "code",
      "source": [
        "x = 0\n",
        "while x < 10:\n",
        "  x = x+1\n",
        "  print(x)"
      ],
      "metadata": {
        "colab": {
          "base_uri": "https://localhost:8080/"
        },
        "id": "QVGvaO6dzeqb",
        "outputId": "3495e092-07d0-4a93-b7dd-988eed481838"
      },
      "execution_count": null,
      "outputs": [
        {
          "output_type": "stream",
          "name": "stdout",
          "text": [
            "1\n",
            "2\n",
            "3\n",
            "4\n",
            "5\n",
            "6\n",
            "7\n",
            "8\n",
            "9\n",
            "10\n"
          ]
        }
      ]
    },
    {
      "cell_type": "code",
      "source": [
        "for i in range(5, 0 , -1):\n",
        "  for j in range(i):\n",
        "    print(\"*\", end = \" \")\n",
        "  print(end = \"\\n\")"
      ],
      "metadata": {
        "colab": {
          "base_uri": "https://localhost:8080/"
        },
        "id": "ogOiLH1n_9af",
        "outputId": "01b21635-fe5b-44cc-ebf1-413e4339671c"
      },
      "execution_count": null,
      "outputs": [
        {
          "output_type": "stream",
          "name": "stdout",
          "text": [
            "* * * * * \n",
            "* * * * \n",
            "* * * \n",
            "* * \n",
            "* \n"
          ]
        }
      ]
    }
  ]
}