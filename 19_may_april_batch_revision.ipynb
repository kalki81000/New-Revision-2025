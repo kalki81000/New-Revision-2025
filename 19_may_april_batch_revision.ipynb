{
  "nbformat": 4,
  "nbformat_minor": 0,
  "metadata": {
    "colab": {
      "provenance": [],
      "include_colab_link": true
    },
    "kernelspec": {
      "name": "python3",
      "display_name": "Python 3"
    },
    "language_info": {
      "name": "python"
    }
  },
  "cells": [
    {
      "cell_type": "markdown",
      "metadata": {
        "id": "view-in-github",
        "colab_type": "text"
      },
      "source": [
        "<a href=\"https://colab.research.google.com/github/kalki81000/New-Revision-2025/blob/main/19_may_april_batch_revision.ipynb\" target=\"_parent\"><img src=\"https://colab.research.google.com/assets/colab-badge.svg\" alt=\"Open In Colab\"/></a>"
      ]
    },
    {
      "cell_type": "code",
      "execution_count": null,
      "metadata": {
        "colab": {
          "base_uri": "https://localhost:8080/",
          "height": 53
        },
        "id": "5r1YZcw8aB84",
        "outputId": "abfcae10-d9bb-4290-8f66-2d4cd1cc31c3"
      },
      "outputs": [
        {
          "name": "stdout",
          "output_type": "stream",
          "text": [
            "Enter your name: Sahil Garg\n"
          ]
        },
        {
          "output_type": "execute_result",
          "data": {
            "text/plain": [
              "'Sahil Garg'"
            ],
            "application/vnd.google.colaboratory.intrinsic+json": {
              "type": "string"
            }
          },
          "metadata": {},
          "execution_count": 1
        }
      ],
      "source": [
        "# inbuilt functions\n",
        "name = input(\"Enter your name: \")"
      ]
    },
    {
      "cell_type": "code",
      "source": [
        "print(name)"
      ],
      "metadata": {
        "colab": {
          "base_uri": "https://localhost:8080/"
        },
        "id": "k6UMVk_aemVp",
        "outputId": "6bbbd17d-4d22-40c9-b964-4233eafa6278"
      },
      "execution_count": null,
      "outputs": [
        {
          "output_type": "stream",
          "name": "stdout",
          "text": [
            "Sahil Garg\n"
          ]
        }
      ]
    },
    {
      "cell_type": "code",
      "source": [
        "type(name)"
      ],
      "metadata": {
        "colab": {
          "base_uri": "https://localhost:8080/"
        },
        "id": "QXGOFq3rgqmV",
        "outputId": "816d69dc-6323-4e96-a915-a25e8b83501b"
      },
      "execution_count": null,
      "outputs": [
        {
          "output_type": "execute_result",
          "data": {
            "text/plain": [
              "str"
            ]
          },
          "metadata": {},
          "execution_count": 3
        }
      ]
    },
    {
      "cell_type": "code",
      "source": [
        "len(name)"
      ],
      "metadata": {
        "colab": {
          "base_uri": "https://localhost:8080/"
        },
        "id": "Jml5ciDfiCjD",
        "outputId": "fbaa77fc-2210-4f28-b434-3d27ac3b8daa"
      },
      "execution_count": null,
      "outputs": [
        {
          "output_type": "execute_result",
          "data": {
            "text/plain": [
              "10"
            ]
          },
          "metadata": {},
          "execution_count": 4
        }
      ]
    },
    {
      "cell_type": "code",
      "source": [
        "# variables\n",
        "\n",
        "# data types\n",
        "\n",
        "# numeric data types\n",
        "a = 1 # integers\n",
        "b = 3.4 #float\n",
        "c = 2+3j # complex\n",
        "\n",
        "\n",
        "# Boolean\n",
        "isworking = True # False\n",
        "\n",
        "# array datatypes\n",
        "\n",
        "name = \"Sahil Garg\"  # string data types\n",
        "name_of_fruits = [\"Apple\" , \"banana\", \"grapes\" , 1] # list\n",
        "name_of_country = (\"India\", \"US\" , \"UK\", 1) # tuple\n"
      ],
      "metadata": {
        "id": "d3nQn0YGiPdm"
      },
      "execution_count": null,
      "outputs": []
    },
    {
      "cell_type": "code",
      "source": [
        "name_of_fruits.append(name_of_country)"
      ],
      "metadata": {
        "id": "DRovztPYkYxE"
      },
      "execution_count": null,
      "outputs": []
    },
    {
      "cell_type": "code",
      "source": [
        "name_of_fruits.extend(name_of_country)"
      ],
      "metadata": {
        "id": "Y22X_Y_fkfpb"
      },
      "execution_count": null,
      "outputs": []
    },
    {
      "cell_type": "code",
      "source": [
        "name_of_fruits.insert(1, 'paches')"
      ],
      "metadata": {
        "id": "y_Rxe75MkpJ-"
      },
      "execution_count": null,
      "outputs": []
    },
    {
      "cell_type": "code",
      "source": [
        "name_of_fruits.index(\"India\")"
      ],
      "metadata": {
        "colab": {
          "base_uri": "https://localhost:8080/"
        },
        "id": "bD7BhOkvl8nW",
        "outputId": "332ee390-6c29-4050-daa9-2dfbfc146018"
      },
      "execution_count": null,
      "outputs": [
        {
          "output_type": "execute_result",
          "data": {
            "text/plain": [
              "5"
            ]
          },
          "metadata": {},
          "execution_count": 26
        }
      ]
    },
    {
      "cell_type": "code",
      "source": [
        "name_of_fruits.remove(\"India\")"
      ],
      "metadata": {
        "id": "D_Crm2qZnb-z"
      },
      "execution_count": null,
      "outputs": []
    },
    {
      "cell_type": "code",
      "source": [
        "# dictionary\n",
        "inventory = {\"apple\": {\"green apple\":10, \"golden\": 40}, \"grapes\":[200, 300], \"peaches\":50}"
      ],
      "metadata": {
        "id": "rd6axdXSoPZL"
      },
      "execution_count": null,
      "outputs": []
    },
    {
      "cell_type": "code",
      "source": [
        "inventory"
      ],
      "metadata": {
        "colab": {
          "base_uri": "https://localhost:8080/"
        },
        "id": "svRxC0uXqhzN",
        "outputId": "6fdbb57e-80bc-4874-c04f-55df45f2e3a2"
      },
      "execution_count": null,
      "outputs": [
        {
          "output_type": "execute_result",
          "data": {
            "text/plain": [
              "{'apple': {'green apple': 10, 'golden': 40},\n",
              " 'grapes': [200, 300],\n",
              " 'peaches': 50}"
            ]
          },
          "metadata": {},
          "execution_count": 2
        }
      ]
    },
    {
      "cell_type": "code",
      "source": [
        "inventory['apple']"
      ],
      "metadata": {
        "colab": {
          "base_uri": "https://localhost:8080/"
        },
        "id": "CF_vrp-Z9rqe",
        "outputId": "7629aa1c-92ab-4a9f-badb-89439afedd0a"
      },
      "execution_count": null,
      "outputs": [
        {
          "output_type": "execute_result",
          "data": {
            "text/plain": [
              "{'green apple': 10, 'golden': 40}"
            ]
          },
          "metadata": {},
          "execution_count": 3
        }
      ]
    },
    {
      "cell_type": "code",
      "source": [
        "inventory.get('apple')"
      ],
      "metadata": {
        "colab": {
          "base_uri": "https://localhost:8080/"
        },
        "id": "fnCFTre6934O",
        "outputId": "0d2024ee-fca3-489c-dfcb-04618fc204d0"
      },
      "execution_count": null,
      "outputs": [
        {
          "output_type": "execute_result",
          "data": {
            "text/plain": [
              "{'green apple': 10, 'golden': 40}"
            ]
          },
          "metadata": {},
          "execution_count": 4
        }
      ]
    },
    {
      "cell_type": "code",
      "source": [
        "len(inventory.keys())"
      ],
      "metadata": {
        "colab": {
          "base_uri": "https://localhost:8080/"
        },
        "id": "-PU9F87Qqnpn",
        "outputId": "6a1ff646-3521-4c62-f680-ee7932b67021"
      },
      "execution_count": null,
      "outputs": [
        {
          "output_type": "execute_result",
          "data": {
            "text/plain": [
              "3"
            ]
          },
          "metadata": {},
          "execution_count": 37
        }
      ]
    },
    {
      "cell_type": "code",
      "source": [
        "com = inventory.copy()"
      ],
      "metadata": {
        "id": "5GfscKT6rcEm"
      },
      "execution_count": null,
      "outputs": []
    },
    {
      "cell_type": "code",
      "source": [
        "com"
      ],
      "metadata": {
        "colab": {
          "base_uri": "https://localhost:8080/"
        },
        "id": "lf6vRyxgr8qz",
        "outputId": "f8499725-c204-46d9-8243-a4cc80dd765e"
      },
      "execution_count": null,
      "outputs": [
        {
          "output_type": "execute_result",
          "data": {
            "text/plain": [
              "{'apple': {'green apple': 10, 'golden': 40},\n",
              " 'grapes': [200, 300],\n",
              " 'peaches': 50}"
            ]
          },
          "metadata": {},
          "execution_count": 40
        }
      ]
    },
    {
      "cell_type": "code",
      "source": [
        "# operator\n",
        "# arithmatic operator\n",
        "2/3\n",
        "\n",
        "# comparison\n",
        "2 == 3\n",
        "\n",
        "\n",
        "# logical operator and or not\n",
        "\n",
        "2>3"
      ],
      "metadata": {
        "colab": {
          "base_uri": "https://localhost:8080/"
        },
        "id": "_xIxYOCdsKml",
        "outputId": "17704c8c-ed26-47cb-ffba-dbb1d007a65f"
      },
      "execution_count": null,
      "outputs": [
        {
          "output_type": "execute_result",
          "data": {
            "text/plain": [
              "False"
            ]
          },
          "metadata": {},
          "execution_count": 57
        }
      ]
    },
    {
      "cell_type": "code",
      "source": [
        "# assignment operator\n",
        "x = 1\n",
        "x /= 1 # x = x+1\n",
        "x"
      ],
      "metadata": {
        "colab": {
          "base_uri": "https://localhost:8080/"
        },
        "id": "mki71oFO-Ly2",
        "outputId": "311c606f-baea-4006-fec3-fcc25c73f4db"
      },
      "execution_count": null,
      "outputs": [
        {
          "output_type": "execute_result",
          "data": {
            "text/plain": [
              "2"
            ]
          },
          "metadata": {},
          "execution_count": 5
        }
      ]
    },
    {
      "cell_type": "code",
      "source": [
        "# create a conversion of celsius to farheinhiet\n",
        "tem = input(\"Enter the temp: \")\n",
        "\n",
        "tem = float(tem)\n",
        "\n",
        "far = (9 / 5  * tem ) +32"
      ],
      "metadata": {
        "colab": {
          "base_uri": "https://localhost:8080/"
        },
        "id": "2qtfhagXtUwO",
        "outputId": "db593350-8e58-4e90-cfea-e00233e22fdb"
      },
      "execution_count": null,
      "outputs": [
        {
          "name": "stdout",
          "output_type": "stream",
          "text": [
            "Enter the temp: 23\n"
          ]
        }
      ]
    },
    {
      "cell_type": "code",
      "source": [
        "far"
      ],
      "metadata": {
        "colab": {
          "base_uri": "https://localhost:8080/"
        },
        "id": "KKzp8oo-uJ7Z",
        "outputId": "1d3ab5eb-d452-4a19-f719-d548ad19c579"
      },
      "execution_count": null,
      "outputs": [
        {
          "output_type": "execute_result",
          "data": {
            "text/plain": [
              "73.4"
            ]
          },
          "metadata": {},
          "execution_count": 60
        }
      ]
    },
    {
      "cell_type": "code",
      "source": [
        "# control flow statment\n",
        "# conditional statement\n",
        "# looping\n",
        "# try except\n",
        "\n",
        "\n",
        "\n",
        "# conditional statmebt\n",
        "\n",
        "tem = input(\"Enter the temp: \")\n",
        "\n",
        "tem = float(tem)\n",
        "\n",
        "far = (9 / 5  * tem ) +32\n",
        "\n",
        "if far > 100:\n",
        "  print(\"user have a fever\")\n",
        "elif far < 95:\n",
        "  print(\"user have a low temp\")\n",
        "elif\n",
        "else:\n",
        "  print(\"user dont have fever\")"
      ],
      "metadata": {
        "colab": {
          "base_uri": "https://localhost:8080/"
        },
        "id": "fWpDUw8quvYf",
        "outputId": "a12371ee-54ae-4241-aac1-ee89d8108738"
      },
      "execution_count": null,
      "outputs": [
        {
          "output_type": "stream",
          "name": "stdout",
          "text": [
            "Enter the temp: 23\n",
            "user have a low temp\n"
          ]
        }
      ]
    },
    {
      "cell_type": "code",
      "source": [
        "# create a calculator\n",
        "\n",
        "num1 = int(input(\"Enter the first number: \"))\n",
        "num2 = int(input(\"Enter the second number: \"))\n",
        "ope = input(\"Enter the operation: \")\n",
        "\n",
        "if ope == \"+\":\n",
        "  print(num1+ num2)\n",
        "elif"
      ],
      "metadata": {
        "colab": {
          "base_uri": "https://localhost:8080/"
        },
        "id": "Ll9Lhs8wv-N_",
        "outputId": "67696e2f-a39e-403b-fef3-f4a02a8bc764"
      },
      "execution_count": null,
      "outputs": [
        {
          "output_type": "stream",
          "name": "stdout",
          "text": [
            "Enter the first number: 3\n",
            "Enter the second number: 4\n",
            "Enter the operation: +\n",
            "7\n"
          ]
        }
      ]
    },
    {
      "cell_type": "code",
      "source": [
        "name_of_fruits"
      ],
      "metadata": {
        "colab": {
          "base_uri": "https://localhost:8080/"
        },
        "id": "f280U1H_yddv",
        "outputId": "214926ff-7fe4-4a53-ea61-e823733e6b3c"
      },
      "execution_count": null,
      "outputs": [
        {
          "output_type": "execute_result",
          "data": {
            "text/plain": [
              "['Apple', 'banana', 'grapes', 1, ('India', 'US', 'UK', 1), 'US', 'UK', 1]"
            ]
          },
          "metadata": {},
          "execution_count": 67
        }
      ]
    },
    {
      "cell_type": "code",
      "source": [],
      "metadata": {
        "id": "-ueJ7SkQzFFZ"
      },
      "execution_count": null,
      "outputs": []
    },
    {
      "cell_type": "code",
      "source": [
        "# looping statment - for , while\n",
        "\n",
        "for i in range(10):\n",
        "  if i % 2 ==0:\n",
        "    print(f\"{i} an even number\")\n",
        "  else:\n",
        "    print(f\"{i} an odd number\")\n"
      ],
      "metadata": {
        "colab": {
          "base_uri": "https://localhost:8080/"
        },
        "id": "i_FGdildyCv1",
        "outputId": "b8ece95e-8913-4093-dc02-ff3ea340254c"
      },
      "execution_count": null,
      "outputs": [
        {
          "output_type": "stream",
          "name": "stdout",
          "text": [
            "0 an even number\n",
            "1 an odd number\n",
            "2 an even number\n",
            "3 an odd number\n",
            "4 an even number\n",
            "5 an odd number\n",
            "6 an even number\n",
            "7 an odd number\n",
            "8 an even number\n",
            "9 an odd number\n"
          ]
        }
      ]
    },
    {
      "cell_type": "code",
      "source": [
        "for i in range(5):\n",
        "  for j in range(i):\n",
        "\n"
      ],
      "metadata": {
        "colab": {
          "base_uri": "https://localhost:8080/"
        },
        "id": "AYaaULpv8x4y",
        "outputId": "dae4dbb4-5dd0-4984-ee93-a925c3fcb059"
      },
      "execution_count": null,
      "outputs": [
        {
          "output_type": "stream",
          "name": "stdout",
          "text": [
            ".e\n"
          ]
        }
      ]
    },
    {
      "cell_type": "code",
      "source": [
        "# create a method to find the sq of all number and save it in a new li\n",
        "sq_num = []\n",
        "\n",
        "for num in range(11, 100, 5 ):\n",
        "  num_sq = num* num\n",
        "  sq_num.append(num_sq)\n",
        "\n",
        "sq_num"
      ],
      "metadata": {
        "colab": {
          "base_uri": "https://localhost:8080/"
        },
        "id": "Az8B69vbz5eW",
        "outputId": "b7c2517e-f6ae-41d7-a976-f107193744dc"
      },
      "execution_count": null,
      "outputs": [
        {
          "output_type": "execute_result",
          "data": {
            "text/plain": [
              "[121,\n",
              " 256,\n",
              " 441,\n",
              " 676,\n",
              " 961,\n",
              " 1296,\n",
              " 1681,\n",
              " 2116,\n",
              " 2601,\n",
              " 3136,\n",
              " 3721,\n",
              " 4356,\n",
              " 5041,\n",
              " 5776,\n",
              " 6561,\n",
              " 7396,\n",
              " 8281,\n",
              " 9216]"
            ]
          },
          "metadata": {},
          "execution_count": 75
        }
      ]
    },
    {
      "cell_type": "code",
      "source": [
        "x = 0\n",
        "while x < 10:\n",
        "  x = x+1\n",
        "  print(x)"
      ],
      "metadata": {
        "colab": {
          "base_uri": "https://localhost:8080/"
        },
        "id": "QVGvaO6dzeqb",
        "outputId": "3495e092-07d0-4a93-b7dd-988eed481838"
      },
      "execution_count": null,
      "outputs": [
        {
          "output_type": "stream",
          "name": "stdout",
          "text": [
            "1\n",
            "2\n",
            "3\n",
            "4\n",
            "5\n",
            "6\n",
            "7\n",
            "8\n",
            "9\n",
            "10\n"
          ]
        }
      ]
    },
    {
      "cell_type": "code",
      "source": [
        "for i in range(5, 0 , -1):\n",
        "  for j in range(i):\n",
        "    print(\"*\", end = \" \")\n",
        "  print(end = \"\\n\")"
      ],
      "metadata": {
        "colab": {
          "base_uri": "https://localhost:8080/"
        },
        "id": "ogOiLH1n_9af",
        "outputId": "01b21635-fe5b-44cc-ebf1-413e4339671c"
      },
      "execution_count": null,
      "outputs": [
        {
          "output_type": "stream",
          "name": "stdout",
          "text": [
            "* * * * * \n",
            "* * * * \n",
            "* * * \n",
            "* * \n",
            "* \n"
          ]
        }
      ]
    },
    {
      "cell_type": "code",
      "source": [
        "# pass , continue , break\n",
        "for i in range(10):\n",
        "  pass"
      ],
      "metadata": {
        "id": "Sp6sXGy2-vbt"
      },
      "execution_count": null,
      "outputs": []
    },
    {
      "cell_type": "code",
      "source": [
        "for i in range(10):\n",
        "  if i % 2 == 0:\n",
        "    continue\n",
        "  elif i > 6:\n",
        "    break\n",
        "  print(i)"
      ],
      "metadata": {
        "colab": {
          "base_uri": "https://localhost:8080/"
        },
        "id": "idGOFcJn_LrZ",
        "outputId": "51a152e4-c2f1-48a7-efe6-bcc72b1b7f3e"
      },
      "execution_count": null,
      "outputs": [
        {
          "output_type": "stream",
          "name": "stdout",
          "text": [
            "1\n",
            "3\n",
            "5\n"
          ]
        }
      ]
    },
    {
      "cell_type": "code",
      "source": [
        "inventory2 = {\"potato\": 4, \"tomato\":8}"
      ],
      "metadata": {
        "id": "V7RaEG3rAftz"
      },
      "execution_count": null,
      "outputs": []
    },
    {
      "cell_type": "code",
      "source": [
        "inventory.update(inventory2)"
      ],
      "metadata": {
        "id": "MwY1ogkmA8Qw"
      },
      "execution_count": null,
      "outputs": []
    },
    {
      "cell_type": "code",
      "source": [
        "inventory"
      ],
      "metadata": {
        "colab": {
          "base_uri": "https://localhost:8080/"
        },
        "id": "6A441KwFBB_h",
        "outputId": "7a3bc856-4dc0-4358-ad5c-b8b75964368a"
      },
      "execution_count": null,
      "outputs": [
        {
          "output_type": "execute_result",
          "data": {
            "text/plain": [
              "{'apple': {'green apple': 10, 'golden': 40},\n",
              " 'grapes': [200, 300],\n",
              " 'peaches': 50,\n",
              " 'potato': 4,\n",
              " 'tomato': 8}"
            ]
          },
          "metadata": {},
          "execution_count": 16
        }
      ]
    },
    {
      "cell_type": "code",
      "source": [
        "user = {}\n",
        "exit = True\n",
        "while exit:\n",
        "  key = input(\"Enter key: \")\n",
        "  value = input(\"enter value \")\n",
        "  if key == \"exit\":\n",
        "    break\n",
        "  user[key] = value\n",
        "\n",
        "print(user)"
      ],
      "metadata": {
        "colab": {
          "base_uri": "https://localhost:8080/"
        },
        "id": "psXpDTquBS2G",
        "outputId": "d597b3d0-e514-47f2-ef25-05be3af0aa0e"
      },
      "execution_count": null,
      "outputs": [
        {
          "output_type": "stream",
          "name": "stdout",
          "text": [
            "Enter key: apple\n",
            "enter value 1\n",
            "Enter key: banana\n",
            "enter value 2\n",
            "Enter key: grapes\n",
            "enter value 4\n",
            "Enter key: potato\n",
            "enter value 5\n",
            "Enter key: exit\n",
            "enter value k\n",
            "{'apple': '1', 'banana': '2', 'grapes': '4', 'potato': '5'}\n"
          ]
        }
      ]
    },
    {
      "cell_type": "code",
      "source": [
        "  num = input(\"ENter a number\")\n",
        "  num - num"
      ],
      "metadata": {
        "colab": {
          "base_uri": "https://localhost:8080/",
          "height": 176
        },
        "id": "gEiXOyPpBFZl",
        "outputId": "776d99f4-e676-46e7-d6e0-aa855522d901"
      },
      "execution_count": null,
      "outputs": [
        {
          "name": "stdout",
          "output_type": "stream",
          "text": [
            "ENter a number5\n"
          ]
        },
        {
          "output_type": "error",
          "ename": "TypeError",
          "evalue": "unsupported operand type(s) for -: 'str' and 'str'",
          "traceback": [
            "\u001b[0;31m---------------------------------------------------------------------------\u001b[0m",
            "\u001b[0;31mTypeError\u001b[0m                                 Traceback (most recent call last)",
            "\u001b[0;32m<ipython-input-5-a93f4215b18f>\u001b[0m in \u001b[0;36m<cell line: 2>\u001b[0;34m()\u001b[0m\n\u001b[1;32m      1\u001b[0m \u001b[0mnum\u001b[0m \u001b[0;34m=\u001b[0m \u001b[0minput\u001b[0m\u001b[0;34m(\u001b[0m\u001b[0;34m\"ENter a number\"\u001b[0m\u001b[0;34m)\u001b[0m\u001b[0;34m\u001b[0m\u001b[0;34m\u001b[0m\u001b[0m\n\u001b[0;32m----> 2\u001b[0;31m \u001b[0mnum\u001b[0m \u001b[0;34m-\u001b[0m \u001b[0mnum\u001b[0m\u001b[0;34m\u001b[0m\u001b[0;34m\u001b[0m\u001b[0m\n\u001b[0m",
            "\u001b[0;31mTypeError\u001b[0m: unsupported operand type(s) for -: 'str' and 'str'"
          ]
        }
      ]
    },
    {
      "cell_type": "code",
      "source": [
        "num = input(\"Emter num: \")\n",
        "if num.isdigit():\n",
        "  num = int(num)\n",
        "else:\n",
        "  print(\"Error in value\")"
      ],
      "metadata": {
        "colab": {
          "base_uri": "https://localhost:8080/"
        },
        "id": "mHC8a9-yGtMn",
        "outputId": "8973643f-2abf-4be9-8827-b0db823abfb3"
      },
      "execution_count": null,
      "outputs": [
        {
          "name": "stdout",
          "output_type": "stream",
          "text": [
            "Emter num: 5\n"
          ]
        }
      ]
    },
    {
      "cell_type": "code",
      "source": [
        "# try except statment\n",
        "\n",
        "try:\n",
        "  print(\"running try statement ......\")\n",
        "  num = input(\"ENter a number\")\n",
        "  num = int(num)\n",
        "except Exception as e:\n",
        "  print(\"running except statement ......\")\n",
        "  print(e)\n",
        "else:\n",
        "  print(\"running else statement ......\")\n",
        "  num = num*num\n",
        "  print(num)\n",
        "finally:\n",
        "  print(\"running finally statement ......\")\n",
        "  del num"
      ],
      "metadata": {
        "colab": {
          "base_uri": "https://localhost:8080/",
          "height": 391
        },
        "id": "Mz-qBddE_ZcZ",
        "outputId": "0d996e61-5698-4229-9d13-c32b7fb7a143"
      },
      "execution_count": null,
      "outputs": [
        {
          "output_type": "stream",
          "name": "stdout",
          "text": [
            "running try statement ......\n",
            "running finally statement ......\n"
          ]
        },
        {
          "output_type": "error",
          "ename": "KeyboardInterrupt",
          "evalue": "Interrupted by user",
          "traceback": [
            "\u001b[0;31m---------------------------------------------------------------------------\u001b[0m",
            "\u001b[0;31mKeyboardInterrupt\u001b[0m                         Traceback (most recent call last)",
            "\u001b[0;32m<ipython-input-18-728373e04f7b>\u001b[0m in \u001b[0;36m<cell line: 3>\u001b[0;34m()\u001b[0m\n\u001b[1;32m      3\u001b[0m \u001b[0;32mtry\u001b[0m\u001b[0;34m:\u001b[0m\u001b[0;34m\u001b[0m\u001b[0;34m\u001b[0m\u001b[0m\n\u001b[1;32m      4\u001b[0m   \u001b[0mprint\u001b[0m\u001b[0;34m(\u001b[0m\u001b[0;34m\"running try statement ......\"\u001b[0m\u001b[0;34m)\u001b[0m\u001b[0;34m\u001b[0m\u001b[0;34m\u001b[0m\u001b[0m\n\u001b[0;32m----> 5\u001b[0;31m   \u001b[0mnum\u001b[0m \u001b[0;34m=\u001b[0m \u001b[0minput\u001b[0m\u001b[0;34m(\u001b[0m\u001b[0;34m\"ENter a number\"\u001b[0m\u001b[0;34m)\u001b[0m\u001b[0;34m\u001b[0m\u001b[0;34m\u001b[0m\u001b[0m\n\u001b[0m\u001b[1;32m      6\u001b[0m   \u001b[0mnum\u001b[0m \u001b[0;34m=\u001b[0m \u001b[0mint\u001b[0m\u001b[0;34m(\u001b[0m\u001b[0mnum\u001b[0m\u001b[0;34m)\u001b[0m\u001b[0;34m\u001b[0m\u001b[0;34m\u001b[0m\u001b[0m\n\u001b[1;32m      7\u001b[0m \u001b[0;32mexcept\u001b[0m \u001b[0mException\u001b[0m \u001b[0;32mas\u001b[0m \u001b[0me\u001b[0m\u001b[0;34m:\u001b[0m\u001b[0;34m\u001b[0m\u001b[0;34m\u001b[0m\u001b[0m\n",
            "\u001b[0;32m/usr/local/lib/python3.10/dist-packages/ipykernel/kernelbase.py\u001b[0m in \u001b[0;36mraw_input\u001b[0;34m(self, prompt)\u001b[0m\n\u001b[1;32m    849\u001b[0m                 \u001b[0;34m\"raw_input was called, but this frontend does not support input requests.\"\u001b[0m\u001b[0;34m\u001b[0m\u001b[0;34m\u001b[0m\u001b[0m\n\u001b[1;32m    850\u001b[0m             )\n\u001b[0;32m--> 851\u001b[0;31m         return self._input_request(str(prompt),\n\u001b[0m\u001b[1;32m    852\u001b[0m             \u001b[0mself\u001b[0m\u001b[0;34m.\u001b[0m\u001b[0m_parent_ident\u001b[0m\u001b[0;34m,\u001b[0m\u001b[0;34m\u001b[0m\u001b[0;34m\u001b[0m\u001b[0m\n\u001b[1;32m    853\u001b[0m             \u001b[0mself\u001b[0m\u001b[0;34m.\u001b[0m\u001b[0m_parent_header\u001b[0m\u001b[0;34m,\u001b[0m\u001b[0;34m\u001b[0m\u001b[0;34m\u001b[0m\u001b[0m\n",
            "\u001b[0;32m/usr/local/lib/python3.10/dist-packages/ipykernel/kernelbase.py\u001b[0m in \u001b[0;36m_input_request\u001b[0;34m(self, prompt, ident, parent, password)\u001b[0m\n\u001b[1;32m    893\u001b[0m             \u001b[0;32mexcept\u001b[0m \u001b[0mKeyboardInterrupt\u001b[0m\u001b[0;34m:\u001b[0m\u001b[0;34m\u001b[0m\u001b[0;34m\u001b[0m\u001b[0m\n\u001b[1;32m    894\u001b[0m                 \u001b[0;31m# re-raise KeyboardInterrupt, to truncate traceback\u001b[0m\u001b[0;34m\u001b[0m\u001b[0;34m\u001b[0m\u001b[0m\n\u001b[0;32m--> 895\u001b[0;31m                 \u001b[0;32mraise\u001b[0m \u001b[0mKeyboardInterrupt\u001b[0m\u001b[0;34m(\u001b[0m\u001b[0;34m\"Interrupted by user\"\u001b[0m\u001b[0;34m)\u001b[0m \u001b[0;32mfrom\u001b[0m \u001b[0;32mNone\u001b[0m\u001b[0;34m\u001b[0m\u001b[0;34m\u001b[0m\u001b[0m\n\u001b[0m\u001b[1;32m    896\u001b[0m             \u001b[0;32mexcept\u001b[0m \u001b[0mException\u001b[0m \u001b[0;32mas\u001b[0m \u001b[0me\u001b[0m\u001b[0;34m:\u001b[0m\u001b[0;34m\u001b[0m\u001b[0;34m\u001b[0m\u001b[0m\n\u001b[1;32m    897\u001b[0m                 \u001b[0mself\u001b[0m\u001b[0;34m.\u001b[0m\u001b[0mlog\u001b[0m\u001b[0;34m.\u001b[0m\u001b[0mwarning\u001b[0m\u001b[0;34m(\u001b[0m\u001b[0;34m\"Invalid Message:\"\u001b[0m\u001b[0;34m,\u001b[0m \u001b[0mexc_info\u001b[0m\u001b[0;34m=\u001b[0m\u001b[0;32mTrue\u001b[0m\u001b[0;34m)\u001b[0m\u001b[0;34m\u001b[0m\u001b[0;34m\u001b[0m\u001b[0m\n",
            "\u001b[0;31mKeyboardInterrupt\u001b[0m: Interrupted by user"
          ]
        }
      ]
    },
    {
      "cell_type": "code",
      "source": [
        "# create a function as calculator where you will be taking input from user about numbers and operation and you will return the final result ?"
      ],
      "metadata": {
        "id": "LhDE6ysP_4x-"
      },
      "execution_count": null,
      "outputs": []
    },
    {
      "cell_type": "code",
      "source": [
        "def  calc(a,b,o):\n",
        "    try:\n",
        "        if(o=='+'):\n",
        "            return a+b\n",
        "        elif(o=='-'):\n",
        "            return a-b\n",
        "        elif(o=='*'):\n",
        "            return a*b\n",
        "        elif(o=='/'):\n",
        "            return a/b\n",
        "        else:\n",
        "            print('invalid operator')\n",
        "    except Exception as e:\n",
        "        return Exception\n"
      ],
      "metadata": {
        "id": "SzHm2DqRHwqs"
      },
      "execution_count": null,
      "outputs": []
    },
    {
      "cell_type": "code",
      "source": [
        "calc(\"a\" ,\"b\", -)"
      ],
      "metadata": {
        "colab": {
          "base_uri": "https://localhost:8080/",
          "height": 106
        },
        "id": "0mZFTfJFHybl",
        "outputId": "023c5c06-893b-4de1-9237-0193a99a4440"
      },
      "execution_count": null,
      "outputs": [
        {
          "output_type": "error",
          "ename": "SyntaxError",
          "evalue": "invalid syntax (<ipython-input-21-86bacbef273a>, line 1)",
          "traceback": [
            "\u001b[0;36m  File \u001b[0;32m\"<ipython-input-21-86bacbef273a>\"\u001b[0;36m, line \u001b[0;32m1\u001b[0m\n\u001b[0;31m    calc(\"a\" ,\"b\", -)\u001b[0m\n\u001b[0m                    ^\u001b[0m\n\u001b[0;31mSyntaxError\u001b[0m\u001b[0;31m:\u001b[0m invalid syntax\n"
          ]
        }
      ]
    },
    {
      "cell_type": "code",
      "source": [
        "# Python program to interchange first and last elements in a list\n",
        "# Python program to swap two elements in a list\n",
        "# Python | Ways to find length of list\n",
        "# Maximum of two numbers in Python\n",
        "# Minimum of two numbers in Python"
      ],
      "metadata": {
        "id": "2eQUZ5hfCokK"
      },
      "execution_count": null,
      "outputs": []
    },
    {
      "cell_type": "code",
      "source": [
        "\n",
        "def swap(rlist):\n",
        "    size=len(rlist)\n",
        "\n",
        "    temp=rlist[0]\n",
        "\n",
        "    rlist[0]=rlist[size -1]\n",
        "\n",
        "    rlist[size-1]=temp\n",
        "    return rlist\n",
        "\n",
        "rlist=[4,5,5,7,6]\n",
        "print(swap(rlist))\n"
      ],
      "metadata": {
        "colab": {
          "base_uri": "https://localhost:8080/"
        },
        "id": "4r3BhtJWEQjv",
        "outputId": "01a01531-cb22-407e-9069-fcbd5ffa251e"
      },
      "execution_count": null,
      "outputs": [
        {
          "output_type": "stream",
          "name": "stdout",
          "text": [
            "[6, 5, 5, 7, 4]\n"
          ]
        }
      ]
    },
    {
      "cell_type": "code",
      "source": [
        "lst=[4,5,5,7,6]\n",
        "\n",
        "pos1 , pos2 = 1,3\n",
        "\n",
        "lst[pos1], lst[pos2] = lst[pos2] , lst[pos1]\n",
        "lst"
      ],
      "metadata": {
        "colab": {
          "base_uri": "https://localhost:8080/"
        },
        "id": "FLGhmkNZHFaf",
        "outputId": "80a0d4f0-c866-4663-a19b-cc98b477a22f"
      },
      "execution_count": null,
      "outputs": [
        {
          "output_type": "execute_result",
          "data": {
            "text/plain": [
              "[4, 7, 5, 5, 6]"
            ]
          },
          "metadata": {},
          "execution_count": 24
        }
      ]
    },
    {
      "cell_type": "code",
      "source": [
        "# Given a list numbers = [1, 2, 3, 4, 5], create a new list containing the squares of each number.\n",
        "\n",
        "sq_lst = []\n",
        "for i in lst:\n",
        "  if i % 2== 0:\n",
        "    sq_lst.append(i*i)\n",
        "  else:\n",
        "    \"odd num\"\n",
        "\n",
        "sq_lst"
      ],
      "metadata": {
        "colab": {
          "base_uri": "https://localhost:8080/"
        },
        "id": "A0WNGGNuHx5R",
        "outputId": "e69b4f6d-0f28-40a6-996b-0cd4e18c148f"
      },
      "execution_count": null,
      "outputs": [
        {
          "output_type": "execute_result",
          "data": {
            "text/plain": [
              "[16, 49, 25, 25, 36]"
            ]
          },
          "metadata": {},
          "execution_count": 26
        }
      ]
    },
    {
      "cell_type": "code",
      "source": [
        "sq_lst = [i*i for i in lst if i %2 == 0 ]\n",
        "sq_lst"
      ],
      "metadata": {
        "colab": {
          "base_uri": "https://localhost:8080/"
        },
        "id": "Plkoz3QMIbxw",
        "outputId": "bc9b4be4-b460-4319-abad-ab54abda7d9d"
      },
      "execution_count": null,
      "outputs": [
        {
          "output_type": "execute_result",
          "data": {
            "text/plain": [
              "[16, 36]"
            ]
          },
          "metadata": {},
          "execution_count": 29
        }
      ]
    },
    {
      "cell_type": "code",
      "source": [
        "sq_lst = [i*i  if i %2 == 0 else \"odd_num\" for i in lst ]\n",
        "sq_lst"
      ],
      "metadata": {
        "colab": {
          "base_uri": "https://localhost:8080/"
        },
        "id": "ZwyI7OtPI4km",
        "outputId": "e09a5b94-b583-40f3-dbfa-e4b461b5dd3c"
      },
      "execution_count": null,
      "outputs": [
        {
          "output_type": "execute_result",
          "data": {
            "text/plain": [
              "[16, 'odd_num', 'odd_num', 'odd_num', 36]"
            ]
          },
          "metadata": {},
          "execution_count": 30
        }
      ]
    },
    {
      "cell_type": "code",
      "source": [
        "# Given a list words = [\"hello\", \"world\", \"how\", \"are\", \"you\"], create a new list with all words capitalized.\n",
        "# Create a list containing double vowels from a string text = \"Supercalifragilisticexpiaalidocious\"\n",
        "# Given a list temperatures = [10, 25, 30, 15], create a list with \"Cold\" for temperatures below 20 and \"Warm\" otherwise."
      ],
      "metadata": {
        "id": "_VWjjgd6JFqc"
      },
      "execution_count": null,
      "outputs": []
    },
    {
      "cell_type": "code",
      "source": [
        "words = [\"hello\", \"world\", \"how\", \"are\", \"you\"]\n",
        "capitalized_words = [word.capitalize() for word in words]\n",
        "print(\"capitalized word:\", capitalized_words)\n"
      ],
      "metadata": {
        "colab": {
          "base_uri": "https://localhost:8080/"
        },
        "id": "cwlG-EhRKVFn",
        "outputId": "1b12ad7b-f570-476a-eeae-95d4eea452b1"
      },
      "execution_count": null,
      "outputs": [
        {
          "output_type": "stream",
          "name": "stdout",
          "text": [
            "capitalized word: ['Hello', 'World', 'How', 'Are', 'You']\n"
          ]
        }
      ]
    },
    {
      "cell_type": "code",
      "source": [
        "capitalized_words = []\n",
        "for i in words:\n",
        "  capitalized_words.append(i.capitalize())\n",
        "capitalized_words"
      ],
      "metadata": {
        "colab": {
          "base_uri": "https://localhost:8080/"
        },
        "id": "cuxwUnOjKiic",
        "outputId": "5a542833-4ee2-4ec5-af74-9dce56c40e41"
      },
      "execution_count": null,
      "outputs": [
        {
          "output_type": "execute_result",
          "data": {
            "text/plain": [
              "['Hello', 'World', 'How', 'Are', 'You']"
            ]
          },
          "metadata": {},
          "execution_count": 32
        }
      ]
    },
    {
      "cell_type": "code",
      "source": [
        "text = 'Suupercalifragilisticexpiaalidocious'\n",
        "vowel = 'aeiou'\n",
        "dob = []\n",
        "\n",
        "for i in range(len(text)-1):\n",
        "  char = text[i].lower()\n",
        "  char2 = text[i+1].lower()\n",
        "  if char in vowel and char2 in vowel and char == char2:\n",
        "    dob.append(char*2)\n",
        "\n",
        "print(dob)\n"
      ],
      "metadata": {
        "colab": {
          "base_uri": "https://localhost:8080/"
        },
        "id": "n1tJ9vrILacN",
        "outputId": "9e780278-53d1-41e9-edea-25232347f5a8"
      },
      "execution_count": null,
      "outputs": [
        {
          "output_type": "stream",
          "name": "stdout",
          "text": [
            "['uu', 'aa']\n"
          ]
        }
      ]
    },
    {
      "cell_type": "code",
      "source": [
        "text[1]"
      ],
      "metadata": {
        "colab": {
          "base_uri": "https://localhost:8080/",
          "height": 36
        },
        "id": "pfexFbhYj7os",
        "outputId": "ffce3375-390a-4e40-a6b0-d15520db08d0"
      },
      "execution_count": null,
      "outputs": [
        {
          "output_type": "execute_result",
          "data": {
            "text/plain": [
              "'u'"
            ],
            "application/vnd.google.colaboratory.intrinsic+json": {
              "type": "string"
            }
          },
          "metadata": {},
          "execution_count": 97
        }
      ]
    },
    {
      "cell_type": "code",
      "source": [
        "text[1+1]"
      ],
      "metadata": {
        "colab": {
          "base_uri": "https://localhost:8080/",
          "height": 36
        },
        "id": "8Zjk6shukR6x",
        "outputId": "d65c3e29-7c24-41a5-d86f-8f93ce7aa935"
      },
      "execution_count": null,
      "outputs": [
        {
          "output_type": "execute_result",
          "data": {
            "text/plain": [
              "'u'"
            ],
            "application/vnd.google.colaboratory.intrinsic+json": {
              "type": "string"
            }
          },
          "metadata": {},
          "execution_count": 99
        }
      ]
    },
    {
      "cell_type": "code",
      "source": [
        "temps = [10, 25, 30, 15]\n",
        "\n",
        "labels = [\"cold\" if temp < 20 else \"warm\" for temp in temps]\n",
        "labels"
      ],
      "metadata": {
        "colab": {
          "base_uri": "https://localhost:8080/"
        },
        "id": "Q0VKWW93MjT2",
        "outputId": "2d6d2714-cde5-49a3-bfe1-a3838ad24038"
      },
      "execution_count": null,
      "outputs": [
        {
          "output_type": "execute_result",
          "data": {
            "text/plain": [
              "['cold', 'warm', 'warm', 'cold']"
            ]
          },
          "metadata": {},
          "execution_count": 36
        }
      ]
    },
    {
      "cell_type": "code",
      "source": [
        "## functions\n",
        "\n",
        "# void functions\n",
        "def even_no(data):\n",
        "  lst = []\n",
        "  for i in data:\n",
        "    if i %2 ==0:\n",
        "      lst.append(i)\n",
        "  print(lst)\n",
        "\n",
        "\n",
        "# non void\n",
        "def even_no_non(data):\n",
        "  lst = []\n",
        "  for i in data:\n",
        "    if i %2 ==0:\n",
        "      lst.append(i)\n",
        "  return lst\n",
        "\n"
      ],
      "metadata": {
        "id": "yYA7AimFNKaw"
      },
      "execution_count": null,
      "outputs": []
    },
    {
      "cell_type": "code",
      "source": [
        "data1 = [i for i in range(10,100)]\n"
      ],
      "metadata": {
        "id": "BErh6WSBN6qG"
      },
      "execution_count": null,
      "outputs": []
    },
    {
      "cell_type": "code",
      "source": [
        "lst = even_no_non(data1)"
      ],
      "metadata": {
        "id": "wAD6Ze5ZO-Hj"
      },
      "execution_count": null,
      "outputs": []
    },
    {
      "cell_type": "code",
      "source": [
        "print(lst)"
      ],
      "metadata": {
        "colab": {
          "base_uri": "https://localhost:8080/"
        },
        "id": "KIlVjyUYPHFH",
        "outputId": "dbbe16c4-b653-4c73-8ca4-09e543548bb8"
      },
      "execution_count": null,
      "outputs": [
        {
          "output_type": "stream",
          "name": "stdout",
          "text": [
            "[10, 12, 14, 16, 18, 20, 22, 24, 26, 28, 30, 32, 34, 36, 38, 40, 42, 44, 46, 48, 50, 52, 54, 56, 58, 60, 62, 64, 66, 68, 70, 72, 74, 76, 78, 80, 82, 84, 86, 88, 90, 92, 94, 96, 98]\n"
          ]
        }
      ]
    },
    {
      "cell_type": "code",
      "source": [
        "def validate_password(password):\n",
        "    if len(password) < 8 or len(password) > 20:\n",
        "        return False\n",
        "    if not any(char.isupper() for char in password):\n",
        "        return False\n",
        "    if not any(char.islower() for char in password):\n",
        "        return False\n",
        "    if not any(char.isdigit() for char in password):\n",
        "        return False\n",
        "    special_characters = \"!@#$%^&*()-_+=\"\n",
        "    if not any(char in special_characters for char in password):\n",
        "        return False\n",
        "\n",
        "    return True\n",
        "\n",
        "password = input(\"Enter your password: \")\n",
        "if validate_password(password):\n",
        "    print(\"Valid password.\")\n",
        "else:\n",
        "    print(\"Invalid password.\")\n"
      ],
      "metadata": {
        "colab": {
          "base_uri": "https://localhost:8080/"
        },
        "id": "rety4Lv8RwHW",
        "outputId": "5274f371-3a69-4e33-9fa2-93fd932aff54"
      },
      "execution_count": null,
      "outputs": [
        {
          "output_type": "stream",
          "name": "stdout",
          "text": [
            "Enter your password: Qwerty1234\n",
            "Invalid password.\n"
          ]
        }
      ]
    },
    {
      "cell_type": "code",
      "source": [
        "def validation(password):\n",
        "  upper = False\n",
        "  lower = False\n",
        "  digit = False\n",
        "  sym = False\n",
        "  symbol = \"!@#$%^&*()_+\"\n",
        "\n",
        "  if len(password) > 8 and len(password) < 20:\n",
        "    for i in password:\n",
        "      if i.isupper():\n",
        "        upper = True\n",
        "      elif i.islower():\n",
        "        lower = True\n",
        "      elif i.isdigit():\n",
        "        digit =True\n",
        "      elif i in symbol:\n",
        "        sym = True\n",
        "\n",
        "    if upper and lower and digit and sym:\n",
        "      print(\"saving the password\")\n",
        "      return password\n",
        "    else:\n",
        "      print(\"invalid password\")"
      ],
      "metadata": {
        "id": "ZYOyBVnKVU0b"
      },
      "execution_count": null,
      "outputs": []
    },
    {
      "cell_type": "code",
      "source": [
        "def check(s1):\n",
        "    cu,cl,cs=0,0,0\n",
        "    sc=\"!@#$%^&}*()_+-={[]?/<>.,`~\"\n",
        "    print(f\"all condition running if loop {len(s1)>=8 } + { len(s1)<=20}  + {s1.isalnum()}\" )\n",
        "    if len(s1)>=8 and len(s1)<=20 and s1.isalnum():\n",
        "        for i in s1:\n",
        "            if i.islower():\n",
        "                cl+=1\n",
        "            if i.isupper():\n",
        "                cu+=1\n",
        "            if i in sc:\n",
        "                cs+=1\n",
        "        if cu>=1 and cl>=1 and cs>=1:\n",
        "            return True\n",
        "    else:\n",
        "        return False\n"
      ],
      "metadata": {
        "id": "1iCNeZoIWxa1"
      },
      "execution_count": null,
      "outputs": []
    },
    {
      "cell_type": "code",
      "source": [
        "pas = \"Qwertyu2\"\n",
        "pas.isalnum()"
      ],
      "metadata": {
        "colab": {
          "base_uri": "https://localhost:8080/"
        },
        "id": "YHLvQWDcXs5c",
        "outputId": "5b3ce0fc-0fcf-4a68-fd09-9687cbea0ea2"
      },
      "execution_count": null,
      "outputs": [
        {
          "output_type": "execute_result",
          "data": {
            "text/plain": [
              "True"
            ]
          },
          "metadata": {},
          "execution_count": 65
        }
      ]
    },
    {
      "cell_type": "code",
      "source": [
        "check(\"Qwertyu!2\")"
      ],
      "metadata": {
        "colab": {
          "base_uri": "https://localhost:8080/"
        },
        "id": "tc1O5wGDWRfv",
        "outputId": "c2d41e95-8e96-4661-d67a-fb7c04136e69"
      },
      "execution_count": null,
      "outputs": [
        {
          "output_type": "stream",
          "name": "stdout",
          "text": [
            "all condition running if loop True + True  + False\n"
          ]
        },
        {
          "output_type": "execute_result",
          "data": {
            "text/plain": [
              "False"
            ]
          },
          "metadata": {},
          "execution_count": 63
        }
      ]
    },
    {
      "cell_type": "code",
      "source": [
        "# Create a function named is_leap_year that takes a year as input and returns True if the year is a leap year and False otherwise.\n",
        "\n",
        "def leap_year(value = 2003):\n",
        "  if value %4 == 0:\n",
        "    return \"leap year\"\n",
        "  else:\n",
        "    return \"non leap year\""
      ],
      "metadata": {
        "id": "pRyEFejhX9mu"
      },
      "execution_count": null,
      "outputs": []
    },
    {
      "cell_type": "code",
      "source": [
        "year = int(input(\"enter teh year: \"))\n",
        "leap_year(1598)"
      ],
      "metadata": {
        "colab": {
          "base_uri": "https://localhost:8080/",
          "height": 53
        },
        "id": "8VKdNeBpZrn2",
        "outputId": "e4ebf323-1f2d-4125-ff5b-8f4a0ea788af"
      },
      "execution_count": null,
      "outputs": [
        {
          "name": "stdout",
          "output_type": "stream",
          "text": [
            "enter teh year: 1598\n"
          ]
        },
        {
          "output_type": "execute_result",
          "data": {
            "text/plain": [
              "'non leap year'"
            ],
            "application/vnd.google.colaboratory.intrinsic+json": {
              "type": "string"
            }
          },
          "metadata": {},
          "execution_count": 72
        }
      ]
    },
    {
      "cell_type": "code",
      "source": [
        "# Define a function named format_name that takes a first name and a last name as input. The function should\n",
        "# return a string with the name formatted as \"Last Name, First Name\"\n",
        "def formattin():\n",
        "  name = input(\"Enter your name\")\n",
        "  first_name = name.split()[0]\n",
        "  last_name = name.split()[1]\n",
        "  return f\"{last_name.capitalize()}, testing  {first_name.capitalize()}\"\n",
        "\n",
        "formattin()"
      ],
      "metadata": {
        "colab": {
          "base_uri": "https://localhost:8080/",
          "height": 53
        },
        "id": "Y9SxlQhwYl4y",
        "outputId": "4792f45d-f7ed-42e9-cc54-a26a2e661fc0"
      },
      "execution_count": null,
      "outputs": [
        {
          "name": "stdout",
          "output_type": "stream",
          "text": [
            "Enter your namesahil garg\n"
          ]
        },
        {
          "output_type": "execute_result",
          "data": {
            "text/plain": [
              "'Garg, Sahil'"
            ],
            "application/vnd.google.colaboratory.intrinsic+json": {
              "type": "string"
            }
          },
          "metadata": {},
          "execution_count": 82
        }
      ]
    },
    {
      "cell_type": "code",
      "source": [
        "def sum(x, y):\n",
        "  return x+y"
      ],
      "metadata": {
        "id": "eTnCHCqLcKit"
      },
      "execution_count": null,
      "outputs": []
    },
    {
      "cell_type": "code",
      "source": [
        "# lambda function\n",
        "sum_lambda = lambda x, y : x+y"
      ],
      "metadata": {
        "id": "BgJJRtEKb-JW"
      },
      "execution_count": null,
      "outputs": []
    },
    {
      "cell_type": "code",
      "source": [
        "sum_lambda(4,5)"
      ],
      "metadata": {
        "colab": {
          "base_uri": "https://localhost:8080/"
        },
        "id": "_9wOmaWQcVNP",
        "outputId": "3519fb2c-144f-4c47-cc0b-a6fc2596399c"
      },
      "execution_count": null,
      "outputs": [
        {
          "output_type": "execute_result",
          "data": {
            "text/plain": [
              "9"
            ]
          },
          "metadata": {},
          "execution_count": 78
        }
      ]
    },
    {
      "cell_type": "code",
      "source": [
        "area = lambda b, h : b*h*.5"
      ],
      "metadata": {
        "id": "3bAs8PP9cy5b"
      },
      "execution_count": null,
      "outputs": []
    },
    {
      "cell_type": "code",
      "source": [
        "## try except else finally\n",
        "## map , filter"
      ],
      "metadata": {
        "id": "iRObUbeEcy16"
      },
      "execution_count": null,
      "outputs": []
    },
    {
      "cell_type": "code",
      "source": [
        "sq_list = [i*i if i %2 == 0 else i for i in range(10) ]"
      ],
      "metadata": {
        "id": "vPcPYqHIeHWE"
      },
      "execution_count": null,
      "outputs": []
    },
    {
      "cell_type": "code",
      "source": [
        "i = [1,2,4]\n",
        "j = [4,5,6]\n",
        "\n",
        "coor = [(x,y) for x in i for y in j]"
      ],
      "metadata": {
        "id": "M_tg7_wUewlJ"
      },
      "execution_count": null,
      "outputs": []
    },
    {
      "cell_type": "code",
      "source": [
        "coor"
      ],
      "metadata": {
        "colab": {
          "base_uri": "https://localhost:8080/"
        },
        "id": "Aq86O9LxfD9B",
        "outputId": "49fa56f3-fbad-4554-a8ac-9212208accd0"
      },
      "execution_count": null,
      "outputs": [
        {
          "output_type": "execute_result",
          "data": {
            "text/plain": [
              "[(1, 4), (1, 5), (1, 6), (2, 4), (2, 5), (2, 6), (4, 4), (4, 5), (4, 6)]"
            ]
          },
          "metadata": {},
          "execution_count": 84
        }
      ]
    },
    {
      "cell_type": "code",
      "source": [
        "\n",
        "def is_leap(year):\n",
        "  if year%4 ==0:\n",
        "    return \"leap year\"\n",
        "  else:\n",
        "    return \"not leap year\"\n"
      ],
      "metadata": {
        "id": "Opp0nfQZf-vd"
      },
      "execution_count": null,
      "outputs": []
    },
    {
      "cell_type": "code",
      "source": [
        "year = int(input(\"enter the year: \"))"
      ],
      "metadata": {
        "colab": {
          "base_uri": "https://localhost:8080/"
        },
        "id": "fekHUcx6gOFi",
        "outputId": "7a5e5e62-5163-4652-b24f-5334b9712feb"
      },
      "execution_count": null,
      "outputs": [
        {
          "name": "stdout",
          "output_type": "stream",
          "text": [
            "enter the year: 2904\n"
          ]
        }
      ]
    },
    {
      "cell_type": "code",
      "source": [
        "is_leap(year)"
      ],
      "metadata": {
        "colab": {
          "base_uri": "https://localhost:8080/",
          "height": 36
        },
        "id": "2lRAK1CLgToH",
        "outputId": "468cc43f-6041-4bc5-93e1-c323df914174"
      },
      "execution_count": null,
      "outputs": [
        {
          "output_type": "execute_result",
          "data": {
            "text/plain": [
              "'leap year'"
            ],
            "application/vnd.google.colaboratory.intrinsic+json": {
              "type": "string"
            }
          },
          "metadata": {},
          "execution_count": 88
        }
      ]
    },
    {
      "cell_type": "code",
      "source": [
        "df  = \"file\""
      ],
      "metadata": {
        "id": "wJRaxW6VhHXb"
      },
      "execution_count": null,
      "outputs": []
    },
    {
      "cell_type": "code",
      "source": [
        "df.fix1"
      ],
      "metadata": {
        "id": "_6EYSRARhPly"
      },
      "execution_count": null,
      "outputs": []
    },
    {
      "cell_type": "code",
      "source": [
        "df.fx2"
      ],
      "metadata": {
        "id": "2MRgdy3EhU1g"
      },
      "execution_count": null,
      "outputs": []
    },
    {
      "cell_type": "code",
      "source": [
        "def cal_():\n",
        "    try:\n",
        "      a=int(input(\"enter the number\"))\n",
        "      b=int(input(\"enter the another number\"))\n",
        "      c=input(\"the operation\")\n",
        "\n",
        "\n",
        "    except Exception as e:\n",
        "          print(e)\n",
        "\n",
        "    else:\n",
        "      if c==\"add\":\n",
        "        print(a+b)\n",
        "      elif c==\"sub\":\n",
        "        print(a-b)\n",
        "      elif c==\"div\":\n",
        "        print(a/b)\n",
        "      elif c==\"mul\":\n",
        "        print(a*b)\n",
        "\n",
        "result=cal_()\n"
      ],
      "metadata": {
        "id": "m9tye0SbJNkS",
        "outputId": "3c0cf244-5d0a-4091-8825-020caf509f2e",
        "colab": {
          "base_uri": "https://localhost:8080/"
        }
      },
      "execution_count": 2,
      "outputs": [
        {
          "output_type": "stream",
          "name": "stdout",
          "text": [
            "enter the number1222\n",
            "enter the another number52225\n",
            "the operationadd\n",
            "53447\n"
          ]
        }
      ]
    },
    {
      "cell_type": "code",
      "source": [
        "# implement a function is_prime(number) that determines if a number is prime (divisible only by 1 and itself) using a more efficient algorithm\n",
        "# (e.g., trial division up to the square root of the number)."
      ],
      "metadata": {
        "id": "iHG_VgZv-kr2"
      },
      "execution_count": null,
      "outputs": []
    },
    {
      "cell_type": "code",
      "source": [
        "def is_prime(number):\n",
        "  try:\n",
        "    num = int(number)\n",
        "  except Exception as e:\n",
        "    print(e)\n",
        "  else:\n",
        "    if num <= 1:\n",
        "      return False\n",
        "    else:\n",
        "      for i in range(2, int(num**.5)+1):\n",
        "        if num % i == 0:\n",
        "          return False\n",
        "      return True\n"
      ],
      "metadata": {
        "id": "PElcy1o5KpEX"
      },
      "execution_count": null,
      "outputs": []
    },
    {
      "cell_type": "code",
      "source": [
        "is_prime(310101010101020309389323897328942947277)"
      ],
      "metadata": {
        "colab": {
          "base_uri": "https://localhost:8080/"
        },
        "id": "LdtsnsqkNEP3",
        "outputId": "06393e7a-7e9f-4ca5-da71-55cd79a44873"
      },
      "execution_count": null,
      "outputs": [
        {
          "output_type": "execute_result",
          "data": {
            "text/plain": [
              "False"
            ]
          },
          "metadata": {},
          "execution_count": 36
        }
      ]
    },
    {
      "cell_type": "code",
      "source": [
        "int(31**(1/2))+1"
      ],
      "metadata": {
        "colab": {
          "base_uri": "https://localhost:8080/"
        },
        "id": "1L5yPQvxMiwS",
        "outputId": "9fce1430-792e-410e-fa80-f2e5cdfe4ff7"
      },
      "execution_count": null,
      "outputs": [
        {
          "output_type": "execute_result",
          "data": {
            "text/plain": [
              "6"
            ]
          },
          "metadata": {},
          "execution_count": 46
        }
      ]
    },
    {
      "cell_type": "code",
      "source": [
        "for i in range(1,10,2):\n",
        "  print(i)"
      ],
      "metadata": {
        "colab": {
          "base_uri": "https://localhost:8080/"
        },
        "id": "VoRDirVgO74j",
        "outputId": "1d4714f0-ac77-4317-db90-df1949cadd46"
      },
      "execution_count": null,
      "outputs": [
        {
          "output_type": "stream",
          "name": "stdout",
          "text": [
            "1\n",
            "3\n",
            "5\n",
            "7\n",
            "9\n"
          ]
        }
      ]
    },
    {
      "cell_type": "code",
      "source": [
        "def isPrime(num):\n",
        "    try:\n",
        "\n",
        "        if(num < 0):\n",
        "            raise Exception(\"Negetive Number not allowed\")\n",
        "\n",
        "        if(num == 0 or num == 1):\n",
        "            return \"Its Prime Number\"\n",
        "\n",
        "        for i in range(2, num):\n",
        "            print(\"i\")\n",
        "            if(num % i == 0):\n",
        "                return \"Its not Prime Number\"\n",
        "\n",
        "        return \"Its Prime Number\"\n",
        "    except Exception as e:\n",
        "        print(e)\n"
      ],
      "metadata": {
        "id": "PTFHZBbYO34a"
      },
      "execution_count": null,
      "outputs": []
    },
    {
      "cell_type": "code",
      "source": [
        "# Write a function get_list_stats(data) that takes a list of numbers as input and returns a dictionary\n",
        "# containing the minimum, maximum, and average values.\n",
        "\n"
      ],
      "metadata": {
        "colab": {
          "base_uri": "https://localhost:8080/"
        },
        "id": "IWU9V5vvPrq6",
        "outputId": "b8ca5d2f-11ae-4005-ec85-348914965b17"
      },
      "execution_count": null,
      "outputs": [
        {
          "output_type": "stream",
          "name": "stdout",
          "text": [
            "Negetive Number not allowed\n"
          ]
        }
      ]
    },
    {
      "cell_type": "code",
      "source": [
        "def getStats(lst = []):\n",
        "\n",
        "    try:\n",
        "        print(len(lst))\n",
        "        if len(lst) <= 0:\n",
        "            print(\"if condition\")\n",
        "            raise Exception(\"List should have values\")\n",
        "\n",
        "        min = 0\n",
        "        max = 0\n",
        "        avg = 0\n",
        "        sum = 0\n",
        "        for i in lst:\n",
        "\n",
        "            if(max < i):\n",
        "                max = i\n",
        "\n",
        "            if(min > i):\n",
        "                min = i\n",
        "\n",
        "            sum = sum + i\n",
        "\n",
        "        avg = sum/len(lst)\n",
        "\n",
        "        return {\"minimum\" : min, \"maximum\": max, \"average\": avg}\n",
        "    except Exception as e:\n",
        "        print(e)\n"
      ],
      "metadata": {
        "id": "d9tlBXavTGJv"
      },
      "execution_count": null,
      "outputs": []
    },
    {
      "cell_type": "code",
      "source": [
        "getStats()"
      ],
      "metadata": {
        "colab": {
          "base_uri": "https://localhost:8080/"
        },
        "id": "rhnnbu56TJDi",
        "outputId": "400ec708-3f1e-4406-c96f-a91e31f4f476"
      },
      "execution_count": null,
      "outputs": [
        {
          "output_type": "stream",
          "name": "stdout",
          "text": [
            "0\n",
            "if condition\n",
            "List should have values\n"
          ]
        }
      ]
    },
    {
      "cell_type": "code",
      "source": [
        "def get_list_stats(data):\n",
        "    try:\n",
        "      m = min(data)\n",
        "      n = max(data)\n",
        "      a = sum(data)/len(data)\n",
        "      return {\"maximum\":m,\"minimum\":n,\"Average\":a}\n",
        "    except Exception as e:\n",
        "        print(\"Exception occured : \",e)\n"
      ],
      "metadata": {
        "id": "LDJpc1KwUAmr"
      },
      "execution_count": null,
      "outputs": []
    },
    {
      "cell_type": "code",
      "source": [
        "get_list_stats([\"1\", \"2\"])"
      ],
      "metadata": {
        "colab": {
          "base_uri": "https://localhost:8080/"
        },
        "id": "x1ybkrrrUTZq",
        "outputId": "953e8d21-07c4-4851-eeee-a668b08112af"
      },
      "execution_count": null,
      "outputs": [
        {
          "output_type": "stream",
          "name": "stdout",
          "text": [
            "Exception occured :  unsupported operand type(s) for +: 'int' and 'str'\n"
          ]
        }
      ]
    },
    {
      "cell_type": "code",
      "source": [
        "# recusrive functions\n",
        "# factorial\n",
        "# 5! = 5x4x3x2x1\n",
        "\n",
        "def factorial(num):\n",
        "  if num == 0:\n",
        "    return 1\n",
        "  else:\n",
        "    return num * factorial(num-1)"
      ],
      "metadata": {
        "id": "JYbdej8yU9fD"
      },
      "execution_count": null,
      "outputs": []
    },
    {
      "cell_type": "code",
      "source": [
        "print(factorial(3))"
      ],
      "metadata": {
        "colab": {
          "base_uri": "https://localhost:8080/"
        },
        "id": "mkvJuaGQVo6O",
        "outputId": "f0b0ba0b-7daf-40f7-d97a-8f42885aa741"
      },
      "execution_count": null,
      "outputs": [
        {
          "output_type": "stream",
          "name": "stdout",
          "text": [
            "initial num : 3\n",
            "initial num : 2\n",
            "initial num : 1\n",
            "initial num : 0\n",
            " else part of condition : 1* 1\n",
            "initial num : 0\n",
            " else part of condition : 2* 1\n",
            "initial num : 1\n",
            "initial num : 0\n",
            " else part of condition : 1* 1\n",
            "initial num : 0\n",
            " else part of condition : 3* 2\n",
            "initial num : 2\n",
            "initial num : 1\n",
            "initial num : 0\n",
            " else part of condition : 1* 1\n",
            "initial num : 0\n",
            " else part of condition : 2* 1\n",
            "initial num : 1\n",
            "initial num : 0\n",
            " else part of condition : 1* 1\n",
            "initial num : 0\n",
            "6\n"
          ]
        }
      ]
    },
    {
      "cell_type": "code",
      "source": [
        "0 , 1, 1,2,3  , 5, 8"
      ],
      "metadata": {
        "id": "PB7K7dU9XE-b"
      },
      "execution_count": null,
      "outputs": []
    },
    {
      "cell_type": "code",
      "source": [
        "# using recursive functions create fibonanci\n",
        "def fibonacci(num):\n",
        "  if num == 0:\n",
        "    return 0\n",
        "  elif num == 1:\n",
        "    return 1\n",
        "  else:\n",
        "    return fibonacci(num-1) + fibonacci(num-2)\n",
        "\n"
      ],
      "metadata": {
        "id": "pNaJbDU0WoQk"
      },
      "execution_count": null,
      "outputs": []
    },
    {
      "cell_type": "code",
      "source": [
        "fibonacci(3)"
      ],
      "metadata": {
        "colab": {
          "base_uri": "https://localhost:8080/"
        },
        "id": "HesrucxLZFVg",
        "outputId": "d6fc8427-f999-42e7-eab7-c71a479b8803"
      },
      "execution_count": null,
      "outputs": [
        {
          "output_type": "execute_result",
          "data": {
            "text/plain": [
              "2"
            ]
          },
          "metadata": {},
          "execution_count": 104
        }
      ]
    },
    {
      "cell_type": "code",
      "source": [
        "0 ,1 ,1, 2, 3, 5"
      ],
      "metadata": {
        "id": "AbqaRRgBkIg0"
      },
      "execution_count": null,
      "outputs": []
    },
    {
      "cell_type": "code",
      "source": [
        "def series(n):\n",
        "  a , b = 0 , 1\n",
        "  while a <= n:\n",
        "    print(a , end = \" \")\n",
        "    a, b = b , a+b"
      ],
      "metadata": {
        "id": "vfhtAjjTZRXu"
      },
      "execution_count": 3,
      "outputs": []
    },
    {
      "cell_type": "code",
      "source": [
        "series(33)"
      ],
      "metadata": {
        "id": "z3EVSviYCA4x",
        "outputId": "8aa10fd1-1d2e-4970-e8a7-4df787c8a233",
        "colab": {
          "base_uri": "https://localhost:8080/"
        }
      },
      "execution_count": 4,
      "outputs": [
        {
          "output_type": "stream",
          "name": "stdout",
          "text": [
            "0 1 1 2 3 5 8 13 21 "
          ]
        }
      ]
    },
    {
      "cell_type": "code",
      "source": [
        "# map()\n",
        "# create a list of sq_num from 1 to 10\n",
        "def sq_elemets(start, stop):\n",
        "  return list(map(lambda x: x*x , ))"
      ],
      "metadata": {
        "id": "Jvxu9_vjbE3_"
      },
      "execution_count": null,
      "outputs": []
    },
    {
      "cell_type": "code",
      "source": [
        "num = (1,2,3,4,5)\n",
        "tuple(map(lambda x: x*x , num))"
      ],
      "metadata": {
        "colab": {
          "base_uri": "https://localhost:8080/"
        },
        "id": "12a8OqSXb0ID",
        "outputId": "46f67aea-45f9-4c45-bb86-b42002454fa3"
      },
      "execution_count": null,
      "outputs": [
        {
          "output_type": "execute_result",
          "data": {
            "text/plain": [
              "(1, 4, 9, 16, 25)"
            ]
          },
          "metadata": {},
          "execution_count": 88
        }
      ]
    },
    {
      "cell_type": "code",
      "source": [
        "num"
      ],
      "metadata": {
        "colab": {
          "base_uri": "https://localhost:8080/"
        },
        "id": "pAIOzDrRb7bU",
        "outputId": "0b18cf16-3628-47e9-a056-0f83878517d1"
      },
      "execution_count": null,
      "outputs": [
        {
          "output_type": "execute_result",
          "data": {
            "text/plain": [
              "(1, 2, 3, 4, 5)"
            ]
          },
          "metadata": {},
          "execution_count": 89
        }
      ]
    },
    {
      "cell_type": "code",
      "source": [
        "# filter\n"
      ],
      "metadata": {
        "colab": {
          "base_uri": "https://localhost:8080/"
        },
        "id": "nHRuY7LrcP4I",
        "outputId": "fc007b6c-4354-4260-86ff-ef650586f9d8"
      },
      "execution_count": null,
      "outputs": [
        {
          "output_type": "execute_result",
          "data": {
            "text/plain": [
              "(2, 4)"
            ]
          },
          "metadata": {},
          "execution_count": 90
        }
      ]
    },
    {
      "cell_type": "code",
      "source": [
        "tuple(map(lambda x: x*x , tuple(filter(lambda x : x%2 == 0 , num))))"
      ],
      "metadata": {
        "colab": {
          "base_uri": "https://localhost:8080/"
        },
        "id": "mueZuQlkcozF",
        "outputId": "d55b3156-1e33-49a4-fe54-4cea0ce214ce"
      },
      "execution_count": null,
      "outputs": [
        {
          "output_type": "execute_result",
          "data": {
            "text/plain": [
              "(4, 16)"
            ]
          },
          "metadata": {},
          "execution_count": 91
        }
      ]
    },
    {
      "cell_type": "code",
      "source": [
        "# Write Python code using filter() and a lambda function to filter out strings with a length less than a specified minimum length."
      ],
      "metadata": {
        "id": "GXZUPt8pdD8q"
      },
      "execution_count": null,
      "outputs": []
    },
    {
      "cell_type": "code",
      "source": [
        "lis=[\"cry\",\"beautiful\",\"easy\",\"arghya\",\"run\"]\n",
        "list(filter(lambda x:len(x)>=4,lis))\n"
      ],
      "metadata": {
        "colab": {
          "base_uri": "https://localhost:8080/"
        },
        "id": "ZmtN6RWcerMV",
        "outputId": "d884020c-d22a-4239-f3d6-10db60c04401"
      },
      "execution_count": null,
      "outputs": [
        {
          "output_type": "execute_result",
          "data": {
            "text/plain": [
              "['beautiful', 'easy', 'arghya']"
            ]
          },
          "metadata": {},
          "execution_count": 92
        }
      ]
    },
    {
      "cell_type": "code",
      "source": [
        "def order_pizza(size, toppings, *args, **kwargs):\n",
        "  print(f\"you ordered a {size} of pizza with this {toppings}\")\n",
        "  if args:\n",
        "    print(f\"with extra {','.join(args)} on sides\")\n",
        "  if kwargs:\n",
        "    for toppings , quantity in kwargs.items():\n",
        "      print(f\"adding {quantity}  {toppings} as extras\")"
      ],
      "metadata": {
        "id": "kpwgtAvde27e"
      },
      "execution_count": null,
      "outputs": []
    },
    {
      "cell_type": "code",
      "source": [
        "order_pizza(\"large\", \"pepperoni, mashrooms, cheese\", \"drinks\",  \"breads\",\"ketchups\", \"flaks\" , desserts = \"brownie\", sides = \"ice cream\" )"
      ],
      "metadata": {
        "colab": {
          "base_uri": "https://localhost:8080/"
        },
        "id": "zMMWQ0Yqf3IW",
        "outputId": "50fb8fbc-d264-4bf3-8af1-468400a7637e"
      },
      "execution_count": null,
      "outputs": [
        {
          "output_type": "stream",
          "name": "stdout",
          "text": [
            "you ordered a large of pizza with this pepperoni, mashrooms, cheese\n",
            "with extra drinks,breads,ketchups,flaks on sides\n",
            "adding brownie  desserts as extras\n",
            "adding ice cream  sides as extras\n"
          ]
        }
      ]
    },
    {
      "cell_type": "code",
      "source": [
        "occurrences[char] += 1\n"
      ],
      "metadata": {
        "id": "dCC4rEFln7Oq"
      },
      "execution_count": null,
      "outputs": []
    }
  ]
}